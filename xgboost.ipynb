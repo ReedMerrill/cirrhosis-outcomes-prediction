{
 "cells": [
  {
   "cell_type": "markdown",
   "metadata": {},
   "source": [
    "This notebook fits the baseline model. It predicts on the test data without doing any feature engineering, using the xgboost library."
   ]
  },
  {
   "cell_type": "code",
   "execution_count": 1,
   "metadata": {},
   "outputs": [
    {
     "name": "stderr",
     "output_type": "stream",
     "text": [
      "/home/reed/.local/lib/python3.10/site-packages/scipy/__init__.py:155: UserWarning: A NumPy version >=1.18.5 and <1.26.0 is required for this version of SciPy (detected version 1.26.0\n",
      "  warnings.warn(f\"A NumPy version >={np_minversion} and <{np_maxversion}\"\n"
     ]
    }
   ],
   "source": [
    "import pandas as pd\n",
    "import numpy as np\n",
    "import xgboost as xgb\n",
    "from sklearn.model_selection import train_test_split\n",
    "\n",
    "data = pd.read_csv('data/train.csv')"
   ]
  },
  {
   "cell_type": "markdown",
   "metadata": {},
   "source": [
    "# Data Prep for xgboost"
   ]
  },
  {
   "cell_type": "code",
   "execution_count": 2,
   "metadata": {},
   "outputs": [],
   "source": [
    "# cast discrete columns to the \"category\" dtype for the xgboost library. It can handle category dtypes without a numeric encoding.\n",
    "# list of discrete columns\n",
    "cats = data.select_dtypes(exclude=np.number).columns.tolist()\n",
    "\n",
    "for col in data:\n",
    "   data[col] = data[col].astype('category')\n",
    "\n",
    "# create features and target arrays\n",
    "X, y = data.drop('Status', axis=1), data[['Status']]"
   ]
  },
  {
   "cell_type": "code",
   "execution_count": 3,
   "metadata": {},
   "outputs": [],
   "source": [
    "# the target needs to be numerical for multiclass classification\n",
    "# create a recode mapping\n",
    "# they must be zero indexed\n",
    "mapping = {'C': 0, 'CL': 1, 'D': 2}\n",
    "y = y.replace(mapping).astype('int')"
   ]
  },
  {
   "cell_type": "code",
   "execution_count": 4,
   "metadata": {},
   "outputs": [],
   "source": [
    "# do train/test split on the data\n",
    "X_train, X_dev, y_train, y_dev = train_test_split(X, y, test_size=.2, random_state=1)"
   ]
  },
  {
   "cell_type": "code",
   "execution_count": 5,
   "metadata": {},
   "outputs": [],
   "source": [
    "# Create regression matrices in xboost's data format\n",
    "dtrain = xgb.DMatrix(X_train, y_train, enable_categorical=True)\n",
    "dtest = xgb.DMatrix(X_dev, y_dev, enable_categorical=True)"
   ]
  },
  {
   "cell_type": "markdown",
   "metadata": {},
   "source": [
    "# Fit Model"
   ]
  },
  {
   "cell_type": "code",
   "execution_count": 6,
   "metadata": {},
   "outputs": [
    {
     "name": "stdout",
     "output_type": "stream",
     "text": [
      "[0]\ttrain-mlogloss:0.82211\tvalidation-mlogloss:0.88628\n",
      "[1]\ttrain-mlogloss:0.64673\tvalidation-mlogloss:0.76094\n",
      "[2]\ttrain-mlogloss:0.52433\tvalidation-mlogloss:0.67524\n",
      "[3]\ttrain-mlogloss:0.43285\tvalidation-mlogloss:0.61589\n",
      "[4]\ttrain-mlogloss:0.36035\tvalidation-mlogloss:0.57424\n",
      "[5]\ttrain-mlogloss:0.30329\tvalidation-mlogloss:0.54201\n",
      "[6]\ttrain-mlogloss:0.25777\tvalidation-mlogloss:0.52011\n",
      "[7]\ttrain-mlogloss:0.22074\tvalidation-mlogloss:0.50427\n",
      "[8]\ttrain-mlogloss:0.18997\tvalidation-mlogloss:0.49518\n",
      "[9]\ttrain-mlogloss:0.16608\tvalidation-mlogloss:0.48933\n",
      "[10]\ttrain-mlogloss:0.14472\tvalidation-mlogloss:0.48124\n",
      "[11]\ttrain-mlogloss:0.12796\tvalidation-mlogloss:0.47738\n",
      "[12]\ttrain-mlogloss:0.11410\tvalidation-mlogloss:0.47362\n",
      "[13]\ttrain-mlogloss:0.10178\tvalidation-mlogloss:0.47369\n",
      "[14]\ttrain-mlogloss:0.09167\tvalidation-mlogloss:0.47244\n",
      "[15]\ttrain-mlogloss:0.08334\tvalidation-mlogloss:0.47452\n",
      "[16]\ttrain-mlogloss:0.07612\tvalidation-mlogloss:0.47584\n",
      "[17]\ttrain-mlogloss:0.06995\tvalidation-mlogloss:0.47843\n",
      "[18]\ttrain-mlogloss:0.06457\tvalidation-mlogloss:0.48255\n",
      "[19]\ttrain-mlogloss:0.05978\tvalidation-mlogloss:0.48703\n",
      "[20]\ttrain-mlogloss:0.05575\tvalidation-mlogloss:0.48922\n",
      "[21]\ttrain-mlogloss:0.05201\tvalidation-mlogloss:0.49123\n",
      "[22]\ttrain-mlogloss:0.04869\tvalidation-mlogloss:0.49450\n",
      "[23]\ttrain-mlogloss:0.04579\tvalidation-mlogloss:0.49726\n",
      "[24]\ttrain-mlogloss:0.04331\tvalidation-mlogloss:0.50229\n",
      "[25]\ttrain-mlogloss:0.04106\tvalidation-mlogloss:0.50514\n",
      "[26]\ttrain-mlogloss:0.03901\tvalidation-mlogloss:0.50812\n",
      "[27]\ttrain-mlogloss:0.03711\tvalidation-mlogloss:0.51112\n",
      "[28]\ttrain-mlogloss:0.03538\tvalidation-mlogloss:0.51233\n",
      "[29]\ttrain-mlogloss:0.03382\tvalidation-mlogloss:0.51468\n",
      "[30]\ttrain-mlogloss:0.03236\tvalidation-mlogloss:0.51720\n",
      "[31]\ttrain-mlogloss:0.03112\tvalidation-mlogloss:0.51775\n",
      "[32]\ttrain-mlogloss:0.02983\tvalidation-mlogloss:0.51977\n",
      "[33]\ttrain-mlogloss:0.02868\tvalidation-mlogloss:0.52238\n",
      "[34]\ttrain-mlogloss:0.02761\tvalidation-mlogloss:0.52346\n",
      "[35]\ttrain-mlogloss:0.02661\tvalidation-mlogloss:0.52504\n",
      "[36]\ttrain-mlogloss:0.02572\tvalidation-mlogloss:0.52732\n",
      "[37]\ttrain-mlogloss:0.02489\tvalidation-mlogloss:0.52947\n",
      "[38]\ttrain-mlogloss:0.02415\tvalidation-mlogloss:0.53205\n",
      "[39]\ttrain-mlogloss:0.02345\tvalidation-mlogloss:0.53215\n",
      "[40]\ttrain-mlogloss:0.02278\tvalidation-mlogloss:0.53286\n",
      "[41]\ttrain-mlogloss:0.02217\tvalidation-mlogloss:0.53443\n",
      "[42]\ttrain-mlogloss:0.02156\tvalidation-mlogloss:0.53610\n",
      "[43]\ttrain-mlogloss:0.02102\tvalidation-mlogloss:0.53824\n",
      "[44]\ttrain-mlogloss:0.02043\tvalidation-mlogloss:0.53998\n",
      "[45]\ttrain-mlogloss:0.01997\tvalidation-mlogloss:0.54076\n",
      "[46]\ttrain-mlogloss:0.01953\tvalidation-mlogloss:0.54251\n",
      "[47]\ttrain-mlogloss:0.01909\tvalidation-mlogloss:0.54338\n",
      "[48]\ttrain-mlogloss:0.01869\tvalidation-mlogloss:0.54377\n",
      "[49]\ttrain-mlogloss:0.01826\tvalidation-mlogloss:0.54505\n",
      "[50]\ttrain-mlogloss:0.01788\tvalidation-mlogloss:0.54708\n",
      "[51]\ttrain-mlogloss:0.01755\tvalidation-mlogloss:0.54763\n",
      "[52]\ttrain-mlogloss:0.01718\tvalidation-mlogloss:0.54891\n",
      "[53]\ttrain-mlogloss:0.01683\tvalidation-mlogloss:0.55149\n",
      "[54]\ttrain-mlogloss:0.01654\tvalidation-mlogloss:0.55231\n",
      "[55]\ttrain-mlogloss:0.01621\tvalidation-mlogloss:0.55298\n",
      "[56]\ttrain-mlogloss:0.01590\tvalidation-mlogloss:0.55404\n",
      "[57]\ttrain-mlogloss:0.01563\tvalidation-mlogloss:0.55469\n",
      "[58]\ttrain-mlogloss:0.01534\tvalidation-mlogloss:0.55592\n",
      "[59]\ttrain-mlogloss:0.01510\tvalidation-mlogloss:0.55629\n",
      "[60]\ttrain-mlogloss:0.01488\tvalidation-mlogloss:0.55759\n",
      "[61]\ttrain-mlogloss:0.01462\tvalidation-mlogloss:0.55818\n",
      "[62]\ttrain-mlogloss:0.01439\tvalidation-mlogloss:0.55928\n",
      "[63]\ttrain-mlogloss:0.01415\tvalidation-mlogloss:0.56032\n",
      "[64]\ttrain-mlogloss:0.01396\tvalidation-mlogloss:0.56122\n",
      "[65]\ttrain-mlogloss:0.01376\tvalidation-mlogloss:0.56265\n",
      "[66]\ttrain-mlogloss:0.01354\tvalidation-mlogloss:0.56375\n",
      "[67]\ttrain-mlogloss:0.01333\tvalidation-mlogloss:0.56461\n",
      "[68]\ttrain-mlogloss:0.01317\tvalidation-mlogloss:0.56510\n",
      "[69]\ttrain-mlogloss:0.01294\tvalidation-mlogloss:0.56661\n",
      "[70]\ttrain-mlogloss:0.01277\tvalidation-mlogloss:0.56760\n",
      "[71]\ttrain-mlogloss:0.01260\tvalidation-mlogloss:0.56826\n",
      "[72]\ttrain-mlogloss:0.01243\tvalidation-mlogloss:0.56880\n",
      "[73]\ttrain-mlogloss:0.01229\tvalidation-mlogloss:0.56981\n",
      "[74]\ttrain-mlogloss:0.01212\tvalidation-mlogloss:0.57045\n",
      "[75]\ttrain-mlogloss:0.01196\tvalidation-mlogloss:0.57081\n",
      "[76]\ttrain-mlogloss:0.01178\tvalidation-mlogloss:0.57150\n",
      "[77]\ttrain-mlogloss:0.01163\tvalidation-mlogloss:0.57212\n",
      "[78]\ttrain-mlogloss:0.01147\tvalidation-mlogloss:0.57290\n",
      "[79]\ttrain-mlogloss:0.01133\tvalidation-mlogloss:0.57333\n",
      "[80]\ttrain-mlogloss:0.01123\tvalidation-mlogloss:0.57346\n",
      "[81]\ttrain-mlogloss:0.01109\tvalidation-mlogloss:0.57433\n",
      "[82]\ttrain-mlogloss:0.01093\tvalidation-mlogloss:0.57467\n",
      "[83]\ttrain-mlogloss:0.01078\tvalidation-mlogloss:0.57564\n",
      "[84]\ttrain-mlogloss:0.01064\tvalidation-mlogloss:0.57649\n",
      "[85]\ttrain-mlogloss:0.01052\tvalidation-mlogloss:0.57696\n",
      "[86]\ttrain-mlogloss:0.01040\tvalidation-mlogloss:0.57711\n",
      "[87]\ttrain-mlogloss:0.01029\tvalidation-mlogloss:0.57753\n",
      "[88]\ttrain-mlogloss:0.01015\tvalidation-mlogloss:0.57726\n",
      "[89]\ttrain-mlogloss:0.01003\tvalidation-mlogloss:0.57889\n",
      "[90]\ttrain-mlogloss:0.00993\tvalidation-mlogloss:0.57996\n",
      "[91]\ttrain-mlogloss:0.00981\tvalidation-mlogloss:0.58103\n",
      "[92]\ttrain-mlogloss:0.00969\tvalidation-mlogloss:0.58145\n",
      "[93]\ttrain-mlogloss:0.00960\tvalidation-mlogloss:0.58165\n",
      "[94]\ttrain-mlogloss:0.00948\tvalidation-mlogloss:0.58224\n",
      "[95]\ttrain-mlogloss:0.00938\tvalidation-mlogloss:0.58208\n",
      "[96]\ttrain-mlogloss:0.00931\tvalidation-mlogloss:0.58281\n",
      "[97]\ttrain-mlogloss:0.00921\tvalidation-mlogloss:0.58365\n",
      "[98]\ttrain-mlogloss:0.00913\tvalidation-mlogloss:0.58410\n",
      "[99]\ttrain-mlogloss:0.00903\tvalidation-mlogloss:0.58506\n"
     ]
    }
   ],
   "source": [
    "# Define hyperparameters\n",
    "params = {\n",
    "    # objective for multiclass classification.\n",
    "    # for regression it would be reg:squarederror, for example.\n",
    "    \"objective\": \"multi:softprob\", \n",
    "    \"num_class\": 3,\n",
    "    \"tree_method\": \"hist\"} # optimization without a GPU\n",
    "\n",
    "# specify the names of the data for xgboost to use\n",
    "evals = [(dtrain, \"train\"), (dtest, \"validation\")]\n",
    "n = 100\n",
    "\n",
    "model = xgb.train(\n",
    "   params=params,\n",
    "   dtrain=dtrain,\n",
    "   num_boost_round=n,\n",
    "   evals=evals,\n",
    ")"
   ]
  },
  {
   "cell_type": "markdown",
   "metadata": {},
   "source": [
    "# to-do\n",
    "\n",
    "1. checkpointing (maybe with wandb)\n",
    "2. cross-validation"
   ]
  }
 ],
 "metadata": {
  "kernelspec": {
   "display_name": "ml",
   "language": "python",
   "name": "python3"
  },
  "language_info": {
   "codemirror_mode": {
    "name": "ipython",
    "version": 3
   },
   "file_extension": ".py",
   "mimetype": "text/x-python",
   "name": "python",
   "nbconvert_exporter": "python",
   "pygments_lexer": "ipython3",
   "version": "3.10.13"
  }
 },
 "nbformat": 4,
 "nbformat_minor": 2
}
